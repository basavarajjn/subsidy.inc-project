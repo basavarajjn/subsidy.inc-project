{
 "cells": [
  {
   "cell_type": "markdown",
   "id": "3936571e-ec90-4049-858f-6452bb97e56f",
   "metadata": {},
   "source": [
    "## problem statement"
   ]
  },
  {
   "cell_type": "markdown",
   "id": "dd70d037-9367-4c88-a1f7-f9985b7e8b20",
   "metadata": {},
   "source": [
    "1)Subsidy.inc is the company that delivers the subsidies to the individual based on their income"
   ]
  },
  {
   "cell_type": "markdown",
   "id": "9a1d4066-9fea-4151-b29e-8292b12c3ff6",
   "metadata": {},
   "source": [
    "2)subsidy.inc obbtained the large ammoount of the data on individual income demographic parameter and few finacial parameter"
   ]
  },
  {
   "cell_type": "markdown",
   "id": "26e30c62-5d8b-4217-9d2a-75985a9a8b6f",
   "metadata": {},
   "source": [
    "3) so Subsidy.inc wishes us to:\n",
    "\n",
    "    develop an income classifier system or a model for individual"
   ]
  },
  {
   "cell_type": "code",
   "execution_count": 65,
   "id": "0eb0ce1f-50d0-4897-b005-bd6da452c2d3",
   "metadata": {},
   "outputs": [],
   "source": [
    "#to work with the dataframe\n",
    "import pandas as pd\n",
    "#to perform the numerical operation\n",
    "import numpy as np\n",
    "#to visulize the data\n",
    "import seaborn as sns\n",
    "#to partition the data\n",
    "from sklearn.model_selection import train_test_split\n",
    "#importing the library for logistic legression\n",
    "from sklearn.linear_model import LogisticRegression\n",
    "#importing the performance matrix accuracy score & confusion matrix\n",
    "from sklearn.metrics import accuracy_score,confusion_matrix\n",
    "from sklearn.neighbors import KNeighborsClassifier  \n",
    "\n",
    "#######################################################################################\n"
   ]
  },
  {
   "cell_type": "markdown",
   "id": "f8ccdf8d-370d-463f-b8e0-3c43fa8c42db",
   "metadata": {},
   "source": [
    "## importing the data"
   ]
  },
  {
   "cell_type": "code",
   "execution_count": 2,
   "id": "35e914a2-61e2-4180-8e64-f6c252d9fe8c",
   "metadata": {},
   "outputs": [
    {
     "data": {
      "text/plain": [
       "'\\n#exploratory data analysis:\\n#under the exporatary data analysis we are explore the data to understand the data even better\\n#1.getting to know the data-study about the variables\\n#2.data preprocessing(missing values)\\n#cross tables and data visulization\\n'"
      ]
     },
     "execution_count": 2,
     "metadata": {},
     "output_type": "execute_result"
    }
   ],
   "source": [
    "#importing the data\n",
    "data_income=pd.read_csv('income(1).csv')\n",
    "#creating the copy of the orginal data\n",
    "data=data_income.copy()\n",
    "# we createdthe copy ofthe data so that the orginal data frame is not be touched so the further anlsyis can be done to copied data\n",
    "\"\"\"\n",
    "#exploratory data analysis:\n",
    "#under the exporatary data analysis we are explore the data to understand the data even better\n",
    "#1.getting to know the data-study about the variables\n",
    "#2.data preprocessing(missing values)\n",
    "#cross tables and data visulization\n",
    "\"\"\"\n",
    "\n"
   ]
  },
  {
   "cell_type": "code",
   "execution_count": 3,
   "id": "12d12472-34a2-40f0-bf6f-3a548d8c9327",
   "metadata": {},
   "outputs": [
    {
     "name": "stdout",
     "output_type": "stream",
     "text": [
      "<class 'pandas.core.frame.DataFrame'>\n",
      "RangeIndex: 31978 entries, 0 to 31977\n",
      "Data columns (total 13 columns):\n",
      " #   Column         Non-Null Count  Dtype \n",
      "---  ------         --------------  ----- \n",
      " 0   age            31978 non-null  int64 \n",
      " 1   JobType        31978 non-null  object\n",
      " 2   EdType         31978 non-null  object\n",
      " 3   maritalstatus  31978 non-null  object\n",
      " 4   occupation     31978 non-null  object\n",
      " 5   relationship   31978 non-null  object\n",
      " 6   race           31978 non-null  object\n",
      " 7   gender         31978 non-null  object\n",
      " 8   capitalgain    31978 non-null  int64 \n",
      " 9   capitalloss    31978 non-null  int64 \n",
      " 10  hoursperweek   31978 non-null  int64 \n",
      " 11  nativecountry  31978 non-null  object\n",
      " 12  SalStat        31978 non-null  object\n",
      "dtypes: int64(4), object(9)\n",
      "memory usage: 3.2+ MB\n",
      "None\n"
     ]
    }
   ],
   "source": [
    "#getting know about the data\n",
    "# *********************************************** #\n",
    "# to check the type of the varible\n",
    "print(data.info())"
   ]
  },
  {
   "cell_type": "code",
   "execution_count": 4,
   "id": "8e0be7aa-9cae-4b15-9e5d-d40be87c105a",
   "metadata": {},
   "outputs": [
    {
     "name": "stdout",
     "output_type": "stream",
     "text": [
      "data coloums with null values\n",
      " age              0\n",
      "JobType          0\n",
      "EdType           0\n",
      "maritalstatus    0\n",
      "occupation       0\n",
      "relationship     0\n",
      "race             0\n",
      "gender           0\n",
      "capitalgain      0\n",
      "capitalloss      0\n",
      "hoursperweek     0\n",
      "nativecountry    0\n",
      "SalStat          0\n",
      "dtype: int64\n"
     ]
    }
   ],
   "source": [
    "# checking for the missing values\n",
    "data.isnull()\n",
    "print('data coloums with null values\\n',data.isnull().sum())"
   ]
  },
  {
   "cell_type": "markdown",
   "id": "7f2c463a-db2c-4718-b25b-d0d6eccbc7e5",
   "metadata": {},
   "source": [
    "the above line of code which shows that there would be no missing values in each coloum\n",
    "\n",
    "the isnull will check the null values in each coloumn\n",
    "\n",
    "the isnull().sum() it take the sum of the null values in each coloums"
   ]
  },
  {
   "cell_type": "code",
   "execution_count": 5,
   "id": "e278d6b7-b1e2-4f2b-9f13-a441edfaed6e",
   "metadata": {},
   "outputs": [
    {
     "name": "stdout",
     "output_type": "stream",
     "text": [
      "                age   capitalgain   capitalloss  hoursperweek\n",
      "count  31978.000000  31978.000000  31978.000000  31978.000000\n",
      "mean      38.579023   1064.360623     86.739352     40.417850\n",
      "std       13.662085   7298.596271    401.594301     12.345285\n",
      "min       17.000000      0.000000      0.000000      1.000000\n",
      "25%       28.000000      0.000000      0.000000     40.000000\n",
      "50%       37.000000      0.000000      0.000000     40.000000\n",
      "75%       48.000000      0.000000      0.000000     45.000000\n",
      "max       90.000000  99999.000000   4356.000000     99.000000\n"
     ]
    }
   ],
   "source": [
    "#summary of the numerical variables\n",
    "summary_num=data.describe()\n",
    "print(summary_num)\n",
    "#through this we can infer the statistical mearsures from our data \n"
   ]
  },
  {
   "cell_type": "markdown",
   "id": "3845a56e-333c-4776-af5e-ea6a01be05e2",
   "metadata": {},
   "source": [
    " these are the numerical variables like age,capitalgain,capitalloss,hoursperweek\n",
    "it contain the data of 31978 indivduals\n",
    "the aversge of the individual in the data set is nearly 40\n",
    "the minimum age of the person is 17 and the maximum is 90\n",
    "about 25% of the people have the age belong to28\n",
    "the capital gain means individual who invested in stock or property\n",
    "the average number of such individuals are nearly 1065\n"
   ]
  },
  {
   "cell_type": "code",
   "execution_count": 6,
   "id": "de447762-6081-425a-914b-e39c79cec6a8",
   "metadata": {},
   "outputs": [
    {
     "name": "stdout",
     "output_type": "stream",
     "text": [
      "         JobType    EdType        maritalstatus       occupation relationship  \\\n",
      "count      31978     31978                31978            31978        31978   \n",
      "unique         9        16                    7               15            6   \n",
      "top      Private   HS-grad   Married-civ-spouse   Prof-specialty      Husband   \n",
      "freq       22286     10368                14692             4038        12947   \n",
      "\n",
      "          race gender   nativecountry                        SalStat  \n",
      "count    31978  31978           31978                          31978  \n",
      "unique       5      2              41                              2  \n",
      "top      White   Male   United-States   less than or equal to 50,000  \n",
      "freq     27430  21370           29170                          24283  \n"
     ]
    }
   ],
   "source": [
    "#summery of the catagorical variable\n",
    "summary_cate=data.describe(include=\"O\")\n",
    "print(summary_cate)"
   ]
  },
  {
   "cell_type": "markdown",
   "id": "b8676aed-a68f-4a5b-9863-b7e1845eea73",
   "metadata": {},
   "source": [
    "\n",
    "this would be the summary of the catagorical variable data"
   ]
  },
  {
   "cell_type": "code",
   "execution_count": 7,
   "id": "7a22b465-8f7f-48d9-ba30-b9145c07882b",
   "metadata": {},
   "outputs": [
    {
     "data": {
      "text/plain": [
       "JobType\n",
       " Private             22286\n",
       " Self-emp-not-inc     2499\n",
       " Local-gov            2067\n",
       " ?                    1809\n",
       " State-gov            1279\n",
       " Self-emp-inc         1074\n",
       " Federal-gov           943\n",
       " Without-pay            14\n",
       " Never-worked            7\n",
       "Name: count, dtype: int64"
      ]
     },
     "execution_count": 7,
     "metadata": {},
     "output_type": "execute_result"
    }
   ],
   "source": [
    "#frequency  of the each catagory\n",
    "data['JobType'].value_counts()\n",
    "\n"
   ]
  },
  {
   "cell_type": "code",
   "execution_count": 8,
   "id": "5ccde122-a6f7-4a28-b4a8-e01e6a6c5c32",
   "metadata": {},
   "outputs": [
    {
     "data": {
      "text/plain": [
       "occupation\n",
       " Prof-specialty       4038\n",
       " Craft-repair         4030\n",
       " Exec-managerial      3992\n",
       " Adm-clerical         3721\n",
       " Sales                3584\n",
       " Other-service        3212\n",
       " Machine-op-inspct    1966\n",
       " ?                    1816\n",
       " Transport-moving     1572\n",
       " Handlers-cleaners    1350\n",
       " Farming-fishing       989\n",
       " Tech-support          912\n",
       " Protective-serv       644\n",
       " Priv-house-serv       143\n",
       " Armed-Forces            9\n",
       "Name: count, dtype: int64"
      ]
     },
     "execution_count": 8,
     "metadata": {},
     "output_type": "execute_result"
    }
   ],
   "source": [
    "data['occupation'].value_counts()"
   ]
  },
  {
   "cell_type": "markdown",
   "id": "a9cc2ee3-6416-4c81-8317-07be2ffc1abf",
   "metadata": {},
   "source": [
    "so we can see the special charcters(question mark)\n",
    "these means null values.it can be apperead in only jobtype and the occuption column\n",
    "so to fill the special charcter by null values"
   ]
  },
  {
   "cell_type": "code",
   "execution_count": 9,
   "id": "b37d7c40-8085-4adb-8f3b-8f9b2aa403b7",
   "metadata": {},
   "outputs": [
    {
     "name": "stdout",
     "output_type": "stream",
     "text": [
      "[' ?' ' Federal-gov' ' Local-gov' ' Never-worked' ' Private'\n",
      " ' Self-emp-inc' ' Self-emp-not-inc' ' State-gov' ' Without-pay']\n",
      "[' ?' ' Adm-clerical' ' Armed-Forces' ' Craft-repair' ' Exec-managerial'\n",
      " ' Farming-fishing' ' Handlers-cleaners' ' Machine-op-inspct'\n",
      " ' Other-service' ' Priv-house-serv' ' Prof-specialty' ' Protective-serv'\n",
      " ' Sales' ' Tech-support' ' Transport-moving']\n"
     ]
    }
   ],
   "source": [
    "#checking for unique classes\n",
    "print(np.unique(data['JobType']))\n",
    "print(np.unique(data['occupation']))\n"
   ]
  },
  {
   "cell_type": "code",
   "execution_count": 10,
   "id": "f8748a53-4827-48e0-b990-5ba106786484",
   "metadata": {},
   "outputs": [],
   "source": [
    "\"\"\"\n",
    "go back and read the data including the null values \"na_values['?' ]\n",
    "\"\"\"\n",
    "data=pd.read_csv('income(1).csv',na_values=[' ?'])\n",
    "\n"
   ]
  },
  {
   "cell_type": "code",
   "execution_count": 11,
   "id": "124785bc-15e3-47c6-9a7e-e18114168b52",
   "metadata": {},
   "outputs": [
    {
     "data": {
      "text/plain": [
       "age                 0\n",
       "JobType          1809\n",
       "EdType              0\n",
       "maritalstatus       0\n",
       "occupation       1816\n",
       "relationship        0\n",
       "race                0\n",
       "gender              0\n",
       "capitalgain         0\n",
       "capitalloss         0\n",
       "hoursperweek        0\n",
       "nativecountry       0\n",
       "SalStat             0\n",
       "dtype: int64"
      ]
     },
     "execution_count": 11,
     "metadata": {},
     "output_type": "execute_result"
    }
   ],
   "source": [
    "#data preprocessing\n",
    "data.isnull().sum()"
   ]
  },
  {
   "cell_type": "code",
   "execution_count": 12,
   "id": "b321a640-ecee-464f-9e7d-8469b1980edc",
   "metadata": {},
   "outputs": [
    {
     "data": {
      "text/plain": [
       "'\\npoints to note:\\n1.missing values in job type=1809\\n2.missing value in occcupation=1816\\n3.there were 1809 rows where two specific columns occupation and jobtype have missing values\\n4.you have still 7 occupayion are unfilled for these  7 rows because jobtype id not working'"
      ]
     },
     "execution_count": 12,
     "metadata": {},
     "output_type": "execute_result"
    }
   ],
   "source": [
    "\n",
    "\n",
    "missing=data[data.isnull().any(axis=1)]\n",
    "#axis 1 is considered atleast one value of column is missing\n",
    "\"\"\"\n",
    "points to note:\n",
    "1.missing values in job type=1809\n",
    "2.missing value in occcupation=1816\n",
    "3.there were 1809 rows where two specific columns occupation and jobtype have missing values\n",
    "4.you have still 7 occupayion are unfilled for these  7 rows because jobtype id not working\"\"\""
   ]
  },
  {
   "cell_type": "code",
   "execution_count": 13,
   "id": "f6f18c7a-bdf9-4213-a355-8c210204e8fb",
   "metadata": {},
   "outputs": [],
   "source": [
    "data2=data.dropna(axis=0)\n",
    "#it drop all the columns where it contain the null values"
   ]
  },
  {
   "cell_type": "code",
   "execution_count": 14,
   "id": "ab89eb7d-c1e3-4dd5-bef5-947be3d49f80",
   "metadata": {},
   "outputs": [
    {
     "name": "stdout",
     "output_type": "stream",
     "text": [
      "                   age  capitalgain  capitalloss  hoursperweek\n",
      "age           1.000000     0.080154     0.060165      0.101599\n",
      "capitalgain   0.080154     1.000000    -0.032229      0.080432\n",
      "capitalloss   0.060165    -0.032229     1.000000      0.052417\n",
      "hoursperweek  0.101599     0.080432     0.052417      1.000000\n"
     ]
    }
   ],
   "source": [
    "correlation=data2.corr(numeric_only=True)\n",
    "print(correlation)"
   ]
  },
  {
   "cell_type": "markdown",
   "id": "a891fdd2-8b93-40ae-b93e-6d9b4b43424c",
   "metadata": {},
   "source": [
    "when you look at the values most of them is equal to zero this means none of the variables correlated each other\n",
    "beacuse the correlation value lies between -1 to 1\n",
    "if the correlated value equal to 1 then there would be strong relation between two variables\n",
    "if the values equal to zero then there is no correlation b\\w them\n",
    "in our case there would e no variables ehich are correlated each other\n",
    "\n",
    "\n",
    "\n",
    "\n"
   ]
  },
  {
   "cell_type": "markdown",
   "id": "2bbaccef-f8e1-428f-8623-1dbe0c782d5f",
   "metadata": {},
   "source": [
    "## cross tables & Data visulization"
   ]
  },
  {
   "cell_type": "code",
   "execution_count": 15,
   "id": "096990cf-6184-4c8d-9e82-1299591b6166",
   "metadata": {},
   "outputs": [
    {
     "data": {
      "text/plain": [
       "Index(['age', 'JobType', 'EdType', 'maritalstatus', 'occupation',\n",
       "       'relationship', 'race', 'gender', 'capitalgain', 'capitalloss',\n",
       "       'hoursperweek', 'nativecountry', 'SalStat'],\n",
       "      dtype='object')"
      ]
     },
     "execution_count": 15,
     "metadata": {},
     "output_type": "execute_result"
    }
   ],
   "source": [
    "#extracting the columns name\n",
    "data2.columns"
   ]
  },
  {
   "cell_type": "code",
   "execution_count": 16,
   "id": "6e356c1c-a4b8-4eec-860e-e8dc76ca2ac9",
   "metadata": {},
   "outputs": [
    {
     "name": "stdout",
     "output_type": "stream",
     "text": [
      "col_0       count\n",
      "gender           \n",
      " Female  0.324315\n",
      " Male    0.675685\n"
     ]
    }
   ],
   "source": [
    "#*****************************************************#\n",
    "#gender proporation table\n",
    "gender=pd.crosstab(index=data2[\"gender\"],\n",
    "                   columns='count',\n",
    "                  normalize=True)\n",
    "print(gender)"
   ]
  },
  {
   "cell_type": "markdown",
   "id": "e573a197-0954-4b50-ad16-6d2b30080313",
   "metadata": {},
   "source": [
    "this would help to identify the male and female percentage in the data set\n",
    "the male proption is 32% and the female propostion is 67%"
   ]
  },
  {
   "cell_type": "code",
   "execution_count": 17,
   "id": "9b300cac-aefd-4000-b6a7-3b8afd5e8041",
   "metadata": {},
   "outputs": [
    {
     "name": "stdout",
     "output_type": "stream",
     "text": [
      "SalStat   greater than 50,000   less than or equal to 50,000\n",
      "gender                                                      \n",
      " Female              0.113678                       0.886322\n",
      " Male                0.313837                       0.686163\n",
      "All                  0.248922                       0.751078\n"
     ]
    }
   ],
   "source": [
    "#gender vs salary status:\n",
    "#how salary status varies across the gender\n",
    "#where we are looking to the relation b\\w gender and salary status\n",
    "\n",
    "gender_salstat=pd.crosstab(index=data2[\"gender\"],\n",
    "                          columns=data2['SalStat'],\n",
    "                          margins=True,\n",
    "                          normalize='index')\n",
    "print(gender_salstat)"
   ]
  },
  {
   "cell_type": "markdown",
   "id": "dbed09b3-681f-42a3-9616-0b73c3ccd901",
   "metadata": {},
   "source": [
    "from this we came to know that only 11% of the females earn greater than 50,000and 88% earn less than 50k\n",
    "there would be 31% of the male earns greater than 50,000 and 68% earn less than 50.000\n",
    "the normalize is set to index beacuase the row propostion is equal to 1\n"
   ]
  },
  {
   "cell_type": "code",
   "execution_count": 18,
   "id": "bfb03fe7-14f7-4c77-8af8-088f764dbc98",
   "metadata": {},
   "outputs": [
    {
     "name": "stderr",
     "output_type": "stream",
     "text": [
      "C:\\Users\\91911\\AppData\\Local\\Programs\\Python\\Python311\\Lib\\site-packages\\seaborn\\axisgrid.py:118: UserWarning: The figure layout has changed to tight\n",
      "  self._figure.tight_layout(*args, **kwargs)\n"
     ]
    },
    {
     "data": {
      "image/png": "[encoded data removed]",
      "text/plain": [
       "<Figure size 500x500 with 1 Axes>"
      ]
     },
     "metadata": {},
     "output_type": "display_data"
    }
   ],
   "source": [
    "#frequency distributin of salary status\n",
    "SalStat=sns.displot(data2['SalStat'],)"
   ]
  },
  {
   "cell_type": "markdown",
   "id": "e2cb5f88-a360-4946-8a36-614fcc70739c",
   "metadata": {},
   "source": [
    "in this plot we came to know that 75% of the people having the income less than 50,000 income\n",
    "and 25% of the people having the income more than 50k"
   ]
  },
  {
   "cell_type": "code",
   "execution_count": 19,
   "id": "207400c1-3cf4-4673-b383-166ebdb1ce2f",
   "metadata": {},
   "outputs": [
    {
     "name": "stderr",
     "output_type": "stream",
     "text": [
      "C:\\Users\\91911\\AppData\\Local\\Temp\\ipykernel_4168\\2945953329.py:2: UserWarning: \n",
      "\n",
      "`distplot` is a deprecated function and will be removed in seaborn v0.14.0.\n",
      "\n",
      "Please adapt your code to use either `displot` (a figure-level function with\n",
      "similar flexibility) or `histplot` (an axes-level function for histograms).\n",
      "\n",
      "For a guide to updating your code to use the new functions, please see\n",
      "https://gist.github.com/mwaskom/de44147ed2974457ad6372750bbe5751\n",
      "\n",
      "  sns.distplot(data2['age'],bins=10,kde=False)\n"
     ]
    },
    {
     "data": {
      "text/plain": [
       "<Axes: xlabel='age'>"
      ]
     },
     "execution_count": 19,
     "metadata": {},
     "output_type": "execute_result"
    },
    {
     "data": {
      "image/png": "[encoded data removed]",
      "text/plain": [
       "<Figure size 640x480 with 1 Axes>"
      ]
     },
     "metadata": {},
     "output_type": "display_data"
    }
   ],
   "source": [
    "#*********** Histogram of age **********#\n",
    "sns.distplot(data2['age'],bins=10,kde=False)"
   ]
  },
  {
   "cell_type": "markdown",
   "id": "14c68436-cede-4aeb-adc8-ce08ba0230cc",
   "metadata": {},
   "source": [
    "from this we came to know that the age from 20-45 having the high frequency"
   ]
  },
  {
   "cell_type": "code",
   "execution_count": 20,
   "id": "9e185d8c-409e-4ac9-801e-67aca272514a",
   "metadata": {},
   "outputs": [
    {
     "data": {
      "text/plain": [
       "SalStat\n",
       " greater than 50,000             43.0\n",
       " less than or equal to 50,000    34.0\n",
       "Name: age, dtype: float64"
      ]
     },
     "execution_count": 20,
     "metadata": {},
     "output_type": "execute_result"
    },
    {
     "data": {
      "image/png": "[encoded data removed]",
      "text/plain": [
       "<Figure size 640x480 with 1 Axes>"
      ]
     },
     "metadata": {},
     "output_type": "display_data"
    }
   ],
   "source": [
    "# we can understand the relationship b\\w the variables by ploting them\n",
    "# in order to know how the age is going to affect the salstat\n",
    "#****************** Box-plot :Age vs Salary  status ****************#\n",
    "sns.boxplot(x='SalStat',y='age',data=data2)\n",
    "data2.groupby('SalStat')['age'].median()\n"
   ]
  },
  {
   "cell_type": "markdown",
   "id": "8b72f600-8acc-456f-b612-d38c5ca3c80f",
   "metadata": {},
   "source": [
    "this plot will shows people with 25-35 age are more likely to earn <=50000\n",
    "and the people with 35 to 50 age are more likely to earn >50000"
   ]
  },
  {
   "cell_type": "markdown",
   "id": "48fddab9-8020-41dd-b7cb-a7e9c9944d38",
   "metadata": {},
   "source": [
    "similary you can use the cross table and plots to genrate the relationship b\\w the variables"
   ]
  },
  {
   "cell_type": "markdown",
   "id": "e32d1f6d-12e9-45f3-a283-5e66a1b8dcaf",
   "metadata": {},
   "source": [
    "## Logistic regression"
   ]
  },
  {
   "cell_type": "code",
   "execution_count": 73,
   "id": "db512886-c3c7-432c-979a-da4ded1540cb",
   "metadata": {},
   "outputs": [
    {
     "name": "stderr",
     "output_type": "stream",
     "text": [
      "C:\\Users\\91911\\AppData\\Local\\Temp\\ipykernel_4168\\4021366458.py:27: SettingWithCopyWarning: \n",
      "A value is trying to be set on a copy of a slice from a DataFrame.\n",
      "Try using .loc[row_indexer,col_indexer] = value instead\n",
      "\n",
      "See the caveats in the documentation: https://pandas.pydata.org/pandas-docs/stable/user_guide/indexing.html#returning-a-view-versus-a-copy\n",
      "  data2['SalStat']=data2['SalStat'].map({' less than or equal to 50,000':0,' greater than 50,000':1})\n"
     ]
    },
    {
     "name": "stdout",
     "output_type": "stream",
     "text": [
      "0        0\n",
      "1        0\n",
      "2        1\n",
      "3        0\n",
      "4        0\n",
      "        ..\n",
      "31973    0\n",
      "31974    0\n",
      "31975    0\n",
      "31976    0\n",
      "31977    0\n",
      "Name: SalStat, Length: 30162, dtype: int64\n",
      "['age', 'capitalgain', 'capitalloss', 'hoursperweek', 'SalStat', 'JobType_ Local-gov', 'JobType_ Private', 'JobType_ Self-emp-inc', 'JobType_ Self-emp-not-inc', 'JobType_ State-gov', 'JobType_ Without-pay', 'EdType_ 11th', 'EdType_ 12th', 'EdType_ 1st-4th', 'EdType_ 5th-6th', 'EdType_ 7th-8th', 'EdType_ 9th', 'EdType_ Assoc-acdm', 'EdType_ Assoc-voc', 'EdType_ Bachelors', 'EdType_ Doctorate', 'EdType_ HS-grad', 'EdType_ Masters', 'EdType_ Preschool', 'EdType_ Prof-school', 'EdType_ Some-college', 'maritalstatus_ Married-AF-spouse', 'maritalstatus_ Married-civ-spouse', 'maritalstatus_ Married-spouse-absent', 'maritalstatus_ Never-married', 'maritalstatus_ Separated', 'maritalstatus_ Widowed', 'occupation_ Armed-Forces', 'occupation_ Craft-repair', 'occupation_ Exec-managerial', 'occupation_ Farming-fishing', 'occupation_ Handlers-cleaners', 'occupation_ Machine-op-inspct', 'occupation_ Other-service', 'occupation_ Priv-house-serv', 'occupation_ Prof-specialty', 'occupation_ Protective-serv', 'occupation_ Sales', 'occupation_ Tech-support', 'occupation_ Transport-moving', 'relationship_ Not-in-family', 'relationship_ Other-relative', 'relationship_ Own-child', 'relationship_ Unmarried', 'relationship_ Wife', 'race_ Asian-Pac-Islander', 'race_ Black', 'race_ Other', 'race_ White', 'gender_ Male', 'nativecountry_ Canada', 'nativecountry_ China', 'nativecountry_ Columbia', 'nativecountry_ Cuba', 'nativecountry_ Dominican-Republic', 'nativecountry_ Ecuador', 'nativecountry_ El-Salvador', 'nativecountry_ England', 'nativecountry_ France', 'nativecountry_ Germany', 'nativecountry_ Greece', 'nativecountry_ Guatemala', 'nativecountry_ Haiti', 'nativecountry_ Holand-Netherlands', 'nativecountry_ Honduras', 'nativecountry_ Hong', 'nativecountry_ Hungary', 'nativecountry_ India', 'nativecountry_ Iran', 'nativecountry_ Ireland', 'nativecountry_ Italy', 'nativecountry_ Jamaica', 'nativecountry_ Japan', 'nativecountry_ Laos', 'nativecountry_ Mexico', 'nativecountry_ Nicaragua', 'nativecountry_ Outlying-US(Guam-USVI-etc)', 'nativecountry_ Peru', 'nativecountry_ Philippines', 'nativecountry_ Poland', 'nativecountry_ Portugal', 'nativecountry_ Puerto-Rico', 'nativecountry_ Scotland', 'nativecountry_ South', 'nativecountry_ Taiwan', 'nativecountry_ Thailand', 'nativecountry_ Trinadad&Tobago', 'nativecountry_ United-States', 'nativecountry_ Vietnam', 'nativecountry_ Yugoslavia']\n",
      "['EdType_ 5th-6th', 'nativecountry_ United-States', 'nativecountry_ Guatemala', 'EdType_ Preschool', 'nativecountry_ France', 'occupation_ Protective-serv', 'occupation_ Craft-repair', 'nativecountry_ Nicaragua', 'relationship_ Unmarried', 'nativecountry_ Mexico', 'nativecountry_ Outlying-US(Guam-USVI-etc)', 'EdType_ Some-college', 'relationship_ Wife', 'nativecountry_ Dominican-Republic', 'nativecountry_ Haiti', 'occupation_ Prof-specialty', 'capitalgain', 'occupation_ Exec-managerial', 'occupation_ Farming-fishing', 'race_ Black', 'nativecountry_ Jamaica', 'EdType_ Doctorate', 'occupation_ Sales', 'nativecountry_ Greece', 'occupation_ Transport-moving', 'JobType_ Self-emp-not-inc', 'EdType_ Masters', 'nativecountry_ Hong', 'EdType_ 11th', 'occupation_ Machine-op-inspct', 'race_ Asian-Pac-Islander', 'JobType_ Private', 'nativecountry_ Holand-Netherlands', 'nativecountry_ India', 'occupation_ Tech-support', 'relationship_ Own-child', 'nativecountry_ Ecuador', 'nativecountry_ Thailand', 'race_ White', 'relationship_ Not-in-family', 'EdType_ Prof-school', 'gender_ Male', 'nativecountry_ Italy', 'nativecountry_ Poland', 'nativecountry_ Taiwan', 'nativecountry_ Japan', 'maritalstatus_ Never-married', 'hoursperweek', 'nativecountry_ Yugoslavia', 'nativecountry_ Portugal', 'EdType_ 9th', 'nativecountry_ England', 'EdType_ Assoc-acdm', 'nativecountry_ Columbia', 'nativecountry_ Laos', 'nativecountry_ Hungary', 'occupation_ Other-service', 'capitalloss', 'JobType_ Without-pay', 'maritalstatus_ Married-AF-spouse', 'relationship_ Other-relative', 'EdType_ 1st-4th', 'nativecountry_ South', 'EdType_ Assoc-voc', 'maritalstatus_ Married-spouse-absent', 'occupation_ Armed-Forces', 'EdType_ 7th-8th', 'race_ Other', 'JobType_ Self-emp-inc', 'nativecountry_ Puerto-Rico', 'EdType_ 12th', 'EdType_ Bachelors', 'nativecountry_ Peru', 'nativecountry_ Scotland', 'maritalstatus_ Married-civ-spouse', 'occupation_ Handlers-cleaners', 'nativecountry_ El-Salvador', 'nativecountry_ Philippines', 'nativecountry_ Cuba', 'JobType_ State-gov', 'nativecountry_ Ireland', 'maritalstatus_ Separated', 'nativecountry_ Germany', 'nativecountry_ China', 'maritalstatus_ Widowed', 'nativecountry_ Vietnam', 'EdType_ HS-grad', 'nativecountry_ Canada', 'nativecountry_ Trinadad&Tobago', 'JobType_ Local-gov', 'age', 'nativecountry_ Iran', 'occupation_ Priv-house-serv', 'nativecountry_ Honduras']\n",
      "[0 0 1 ... 0 0 0]\n",
      "[[False True False ... False False False]\n",
      " [False True False ... False False False]\n",
      " [False True False ... False False False]\n",
      " ...\n",
      " [False True False ... False False False]\n",
      " [False True False ... False False False]\n",
      " [False True False ... False False False]]\n",
      "[[6176  647]\n",
      " [ 808 1418]]\n",
      "0.8392087523483258\n",
      "Misclassified samples: 1455\n",
      "[1766, 1516, 1522, 1437, 1455, 1455, 1456, 1452, 1481, 1432, 1465, 1446, 1451, 1435, 1421, 1415, 1435, 1423, 1443]\n"
     ]
    }
   ],
   "source": [
    "# Importing data\n",
    "# =============================================================================\n",
    "data = pd.read_csv('income(1).csv',na_values=[\" ?\"]) \n",
    "\n",
    "# =============================================================================\n",
    "# Data pre-processing\n",
    "# =============================================================================\n",
    "\n",
    "data.isnull().sum()\n",
    "\n",
    "missing = data[data.isnull().any(axis=1)]\n",
    "# axis=1 => to consider at least one column value is missing in a row\n",
    "\n",
    "\"\"\" Points to note:\n",
    "1. Missing values in Jobtype    = 1809\n",
    "2. Missing values in Occupation = 1816 \n",
    "3. There are 1809 rows where two specific \n",
    "   columns i.e. occupation & JobType have missing values\n",
    "4. (1816-1809) = 7 => You still have occupation unfilled for \n",
    "   these 7 rows. Because, jobtype is Never worked\n",
    "\"\"\"\n",
    "\n",
    "data2 = data.dropna(axis=0)\n",
    "\n",
    "\n",
    "# Reindexing the salary status names to 0,1\n",
    "data2['SalStat']=data2['SalStat'].map({' less than or equal to 50,000':0,' greater than 50,000':1})\n",
    "print(data2['SalStat'])\n",
    "\n",
    "new_data=pd.get_dummies(data2, drop_first=True)\n",
    "\n",
    "# Storing the column names \n",
    "columns_list=list(new_data.columns)\n",
    "print(columns_list)\n",
    "\n",
    "# Separating the input names from data\n",
    "features=list(set(columns_list)-set(['SalStat']))\n",
    "print(features)\n",
    "\n",
    "# Storing the output values in y\n",
    "y=new_data['SalStat'].values\n",
    "print(y)\n",
    "\n",
    "# Storing the values from input features\n",
    "x = new_data[features].values\n",
    "print(x)\n",
    "\n",
    "# Splitting the data into train and test\n",
    "train_x,test_x,train_y,test_y = train_test_split(x,y,test_size=0.3, random_state=0)\n",
    "\n",
    "# =============================================================================\n",
    "# KNN\n",
    "# =============================================================================\n",
    "\n",
    "# Storing the K nearest neighbors classifier\n",
    "KNN_classifier = KNeighborsClassifier(n_neighbors = 5)  \n",
    "\n",
    "# Fitting the values for X and Y\n",
    "KNN_classifier.fit(train_x, train_y) \n",
    "\n",
    "# Predicting the test values with model\n",
    "prediction = KNN_classifier.predict(test_x)\n",
    "\n",
    "# Performance metric check\n",
    "confusionMmatrix = confusion_matrix(test_y, prediction)\n",
    "print(confusionMmatrix)\n",
    "\n",
    "# Calculating the accuracy\n",
    "accuracy_score=accuracy_score(test_y, prediction)\n",
    "print(accuracy_score)\n",
    "\n",
    "print('Misclassified samples: %d' % (test_y != prediction).sum())\n",
    "\n",
    "\"\"\"\n",
    "Effect of K value on classifier\n",
    "\"\"\"\n",
    "Misclassified_sample = []\n",
    "# Calculating error for K values between 1 and 20\n",
    "for i in range(1, 20):  \n",
    "    knn = KNeighborsClassifier(n_neighbors=i)\n",
    "    knn.fit(train_x, train_y)\n",
    "    pred_i = knn.predict(test_x)\n",
    "    Misclassified_sample.append((test_y != pred_i).sum())\n",
    "\n",
    "print(Misclassified_sample)"
   ]
  },
  {
   "cell_type": "code",
   "execution_count": null,
   "id": "020c76b2-5d78-428e-8dfe-08a92b9540b5",
   "metadata": {},
   "outputs": [],
   "source": []
  }
 ],
 "metadata": {
  "kernelspec": {
   "display_name": "Python 3 (ipykernel)",
   "language": "python",
   "name": "python3"
  },
  "language_info": {
   "codemirror_mode": {
    "name": "ipython",
    "version": 3
   },
   "file_extension": ".py",
   "mimetype": "text/x-python",
   "name": "python",
   "nbconvert_exporter": "python",
   "pygments_lexer": "ipython3",
   "version": "3.11.3"
  }
 },
 "nbformat": 4,
 "nbformat_minor": 5
}
